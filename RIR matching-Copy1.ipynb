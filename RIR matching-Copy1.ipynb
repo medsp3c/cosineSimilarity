{
 "cells": [
  {
   "cell_type": "code",
   "execution_count": 16,
   "metadata": {},
   "outputs": [
    {
     "name": "stdout",
     "output_type": "stream",
     "text": [
      "The shape: 3984 x 4\n"
     ]
    },
    {
     "data": {
      "text/html": [
       "<div>\n",
       "<style>\n",
       "    .dataframe thead tr:only-child th {\n",
       "        text-align: right;\n",
       "    }\n",
       "\n",
       "    .dataframe thead th {\n",
       "        text-align: left;\n",
       "    }\n",
       "\n",
       "    .dataframe tbody tr th {\n",
       "        vertical-align: top;\n",
       "    }\n",
       "</style>\n",
       "<table border=\"1\" class=\"dataframe\">\n",
       "  <thead>\n",
       "    <tr style=\"text-align: right;\">\n",
       "      <th></th>\n",
       "      <th>Eorp Id</th>\n",
       "      <th>Knox Pf Id</th>\n",
       "      <th>Potential Failure</th>\n",
       "      <th>LastDate</th>\n",
       "    </tr>\n",
       "  </thead>\n",
       "  <tbody>\n",
       "    <tr>\n",
       "      <th>0</th>\n",
       "      <td>NaN</td>\n",
       "      <td>NaN</td>\n",
       "      <td>1. Delay/inaccurate interpretation of importan...</td>\n",
       "      <td>2017-11-30</td>\n",
       "    </tr>\n",
       "    <tr>\n",
       "      <th>1</th>\n",
       "      <td>NaN</td>\n",
       "      <td>NaN</td>\n",
       "      <td>1. Failure to comply with requirements from UK...</td>\n",
       "      <td>2018-09-30</td>\n",
       "    </tr>\n",
       "    <tr>\n",
       "      <th>2</th>\n",
       "      <td>NaN</td>\n",
       "      <td>NaN</td>\n",
       "      <td>1. Failure to comply with requirements from UK...</td>\n",
       "      <td>2018-09-30</td>\n",
       "    </tr>\n",
       "    <tr>\n",
       "      <th>3</th>\n",
       "      <td>NaN</td>\n",
       "      <td>NaN</td>\n",
       "      <td>1. Failure to consider requirements from UK re...</td>\n",
       "      <td>2018-09-30</td>\n",
       "    </tr>\n",
       "    <tr>\n",
       "      <th>4</th>\n",
       "      <td>NaN</td>\n",
       "      <td>NaN</td>\n",
       "      <td>1. Failure to incorporate the key risk drivers...</td>\n",
       "      <td>2018-09-30</td>\n",
       "    </tr>\n",
       "  </tbody>\n",
       "</table>\n",
       "</div>"
      ],
      "text/plain": [
       "  Eorp Id Knox Pf Id                                  Potential Failure  \\\n",
       "0     NaN        NaN  1. Delay/inaccurate interpretation of importan...   \n",
       "1     NaN        NaN  1. Failure to comply with requirements from UK...   \n",
       "2     NaN        NaN  1. Failure to comply with requirements from UK...   \n",
       "3     NaN        NaN  1. Failure to consider requirements from UK re...   \n",
       "4     NaN        NaN  1. Failure to incorporate the key risk drivers...   \n",
       "\n",
       "    LastDate  \n",
       "0 2017-11-30  \n",
       "1 2018-09-30  \n",
       "2 2018-09-30  \n",
       "3 2018-09-30  \n",
       "4 2018-09-30  "
      ]
     },
     "execution_count": 16,
     "metadata": {},
     "output_type": "execute_result"
    }
   ],
   "source": [
    "#https://bergvca.github.io/2017/10/14/super-fast-string-matching.html\n",
    "import time\n",
    "import datetime\n",
    "import numpy as np\n",
    "from sklearn.metrics.pairwise import cosine_similarity\n",
    "from scipy.sparse import csr_matrix , vstack\n",
    "\n",
    "names =  pd.read_excel('RIR from server.xlsx')\n",
    "print('The shape: %d x %d' % names.shape)\n",
    "names.head()"
   ]
  },
  {
   "cell_type": "code",
   "execution_count": 3,
   "metadata": {},
   "outputs": [
    {
     "name": "stdout",
     "output_type": "stream",
     "text": [
      "All 3-grams in \"McDonalds\":\n"
     ]
    },
    {
     "data": {
      "text/plain": [
       "['McD', 'cDo', 'Don', 'ona', 'nal', 'ald', 'lds']"
      ]
     },
     "execution_count": 3,
     "metadata": {},
     "output_type": "execute_result"
    }
   ],
   "source": [
    "import re\n",
    "\n",
    "def ngrams(string, n=3):\n",
    "    string = re.sub(r'[,-./]|\\sBD',r'', string)\n",
    "    ngrams = zip(*[string[i:] for i in range(n)])\n",
    "    return [''.join(ngram) for ngram in ngrams]\n",
    "\n",
    "print('All 3-grams in \"McDonalds\":')\n",
    "ngrams('McDonalds')"
   ]
  },
  {
   "cell_type": "code",
   "execution_count": 5,
   "metadata": {
    "collapsed": true
   },
   "outputs": [],
   "source": [
    "from sklearn.feature_extraction.text import TfidfVectorizer\n",
    "\n",
    "company_names = names['Potential Failure'].fillna(\"CVxTz\").values\n",
    "vectorizer = TfidfVectorizer(min_df=1, analyzer=ngrams)\n",
    "tf_idf_matrix = vectorizer.fit_transform(company_names)"
   ]
  },
  {
   "cell_type": "code",
   "execution_count": 7,
   "metadata": {
    "collapsed": true
   },
   "outputs": [],
   "source": [
    "import pyodbc\n",
    "\n",
    "conn = pyodbc.connect('DRIVER={SQL Server};SERVER=#####;DATABASE=#####;UID=####;PWD=#####')\n",
    "stmt_PF = \"\"\"select distinct PotentialFailureID, PotentialFailureName\n",
    "            , min(cob) as FirstDate, max(cob) as LastDate \n",
    "            from src_EORP_ControltoPF\n",
    "            where PotentialFailureName is not null\n",
    "            group by PotentialFailureID, PotentialFailureName \"\"\"\n",
    "         \n",
    "#print stmt_complinet\n",
    "\n",
    "PF = pd.read_sql(stmt_PF,conn)\n",
    "\n",
    "lookup_names=PF.PotentialFailureName\n",
    "lookup_term_mat=vectorizer.transform(lookup_names)"
   ]
  },
  {
   "cell_type": "code",
   "execution_count": 33,
   "metadata": {
    "collapsed": true
   },
   "outputs": [],
   "source": [
    "def get_matches_df(sparse_matrix, name_vector, lookup_vector):\n",
    "    non_zeros = sparse_matrix.nonzero()\n",
    "    \n",
    "    sparserows = non_zeros[0]\n",
    "    sparsecols = non_zeros[1]\n",
    "    \n",
    "    nr_matches = sparsecols.size\n",
    "    \n",
    "    left_side = np.empty([nr_matches], dtype=object)\n",
    "    right_side = np.empty([nr_matches], dtype=object)\n",
    "    similairity = np.zeros(nr_matches)\n",
    "    \n",
    "    for index in range(0, nr_matches):\n",
    "        left_side[index] = name_vector[sparserows[index]]\n",
    "        right_side[index] = lookup_vector[sparsecols[index]]\n",
    "        similairity[index] = sparse_matrix.data[index]\n",
    "    \n",
    "    return pd.DataFrame({'left_side': left_side,\n",
    "                          'right_side': right_side,\n",
    "                           'similairity': similairity})"
   ]
  },
  {
   "cell_type": "code",
   "execution_count": 9,
   "metadata": {
    "collapsed": true
   },
   "outputs": [],
   "source": [
    "def batch_cosine(A, B, lower_bound=0):\n",
    "    x,y=A.shape\n",
    "    batch_size=200\n",
    "    loop=int(x/batch_size)\n",
    "    #loop=3\n",
    "    for i in range(loop +1 ):\n",
    "        if i%10==0:\n",
    "            print('Working on ',i*batch_size, 'to ',min((i+1)*batch_size,x))\n",
    "            structTime = time.localtime()\n",
    "            print(datetime.datetime(*structTime[:6]))\n",
    "\n",
    "        out=cosine_similarity(A[i*batch_size:min((i+1)*batch_size,x)],B)\n",
    "        out[out<lower_bound]=0\n",
    "        out_mat=csr_matrix(out)\n",
    "\n",
    "        if i==0:\n",
    "            matches=out_mat\n",
    "        else:\n",
    "            matches=vstack([matches,out_mat])\n",
    "    return matches"
   ]
  },
  {
   "cell_type": "code",
   "execution_count": 37,
   "metadata": {},
   "outputs": [
    {
     "name": "stdout",
     "output_type": "stream",
     "text": [
      "Working on  0 to  200\n",
      "2018-12-11 11:34:02\n",
      "Working on  2000 to  2200\n",
      "2018-12-11 11:34:04\n"
     ]
    }
   ],
   "source": [
    "matches=batch_cosine(lookup_term_mat,tf_idf_matrix,lower_bound=0.7)"
   ]
  },
  {
   "cell_type": "code",
   "execution_count": 35,
   "metadata": {},
   "outputs": [
    {
     "data": {
      "text/plain": [
       "0                     Accounting Controls Actual vs Flash\n",
       "1              Accounting Controls Balance Substantiation\n",
       "2       Adverse case outcome resulting from incorrect ...\n",
       "3       Annual Board and Committees Effectiveness Reviews\n",
       "4                                 Annual Sanctions Review\n",
       "5       Approval and release of a stock exchange annou...\n",
       "6                        Arrange, Hold and Minute meeting\n",
       "7       B&M | Brand Design & Planning | Contract Exit ...\n",
       "8       B&M | Brand Design & Planning | Contract Legal...\n",
       "9       B&M | Brand Design & Planning | Group Approval...\n",
       "10      B&M | Brand Design & Planning | Information Se...\n",
       "11      B&M | Brand Design & Planning | Name screening...\n",
       "12      B&M | Brand Design & Planning | Name Screening...\n",
       "13      B&M | Brand Management | Contract Exit Conditi...\n",
       "14      B&M | Brand Management | Contract Legal Enforc...\n",
       "15        B&M | Brand Management | Cross Border HLRS | PF\n",
       "16      B&M | Brand Management | Group Approval on Fin...\n",
       "17      B&M | Brand Management | Over-invoicing by Ven...\n",
       "18      B&M | Brand Management | Over-invoicing/collus...\n",
       "19      B&M | Brand Management | Vendor Information Se...\n",
       "20      B&M | Brand Market Research | Contract Exit Co...\n",
       "21      B&M | Brand Market Research | Contract Legal E...\n",
       "22      B&M | Brand Market Research | Improper process...\n",
       "23      B&M | Brand Market Research | Information Secu...\n",
       "24      B&M | Brand Market Research | Name Screening f...\n",
       "25      B&M | Brand Market Research | Over- invoicing ...\n",
       "26      B&M | Brand Market Research | Over-invoicing/c...\n",
       "27      B&M | Brand Strategy | Group Approval on Final...\n",
       "28      B&M | CIB/CB/PvB Events | Contract Exit Condit...\n",
       "29       B&M | CIB/CB/PvB Events | Cross Border HLRS | PF\n",
       "                              ...                        \n",
       "3066              WM | PF_WM_07 | Product Management - MI\n",
       "3067            WM | PF_WM_07 | Product Management - WMPS\n",
       "3068         WM | PF_WM_072 | Product Management -  BANCA\n",
       "3069           WM | PF_WM_08 | Product Management - BANCA\n",
       "3070         WM | PF_WM_081 | Product Management -  BANCA\n",
       "3071    WM | PF_WM_088 | Surveillance - Wealth Management\n",
       "3072                              WM | PF_WM_30 | Pricing\n",
       "3073                              WM | PF_WM_31 | Pricing\n",
       "3074         WM | PF_WM_61 | DPM Portfolio Implementation\n",
       "3075         WM | PF_WM_62 | DPM Portfolio Implementation\n",
       "3076                    WM | PF_WMPS_01 | Trade Execution\n",
       "3077    WM | PF_WMPS_01 | Trade Execution | Sales Pers...\n",
       "3078    WM | PF_WMPS_02 | Trade Execution | Best Execu...\n",
       "3079                    WM | PF_WMPS_03 | Trade Execution\n",
       "3080    WM | PF_WMPS_03 | Trade Execution | Predeal Re...\n",
       "3081                    WM | PF_WMPS_04 | Trade Execution\n",
       "3082    WM | PF_WMPS_05 | Trade Execution | Sanctioned...\n",
       "3083                    WM | PF_WMPS_06 | Trade Execution\n",
       "3084    WM | PF_WMPS_07 | Trade Execution | Volcker Rules\n",
       "3085    WM | Pre-Sale | WMPS Wealth Lending | Fair Out...\n",
       "3086    WM | Standard Chartered Securities India | Cli...\n",
       "3087    WM | Standard Chartered Securities India | Cli...\n",
       "3088    WM | Standard Chartered Securities India | Reg...\n",
       "3089                WM | WM Online Equities Channel | PF1\n",
       "3090                WM | WM Online Equities Channel | PF2\n",
       "3091                WM | WM Online Equities Channel | PF3\n",
       "3092                WM | WM Online Equities Channel | PF4\n",
       "3093                     WM | WM Online Mutual Funds| PF1\n",
       "3094                     WM | WM Online Mutual Funds| PF2\n",
       "3095                     WM | WM Online Mutual Funds| PF3\n",
       "Name: PotentialFailureName, Length: 3096, dtype: object"
      ]
     },
     "execution_count": 35,
     "metadata": {},
     "output_type": "execute_result"
    }
   ],
   "source": [
    "lookup_names"
   ]
  },
  {
   "cell_type": "code",
   "execution_count": 46,
   "metadata": {
    "collapsed": true,
    "scrolled": true
   },
   "outputs": [],
   "source": [
    "\n",
    "matches_df = get_matches_df(matches,lookup_names,company_names)\n",
    "matches_df.to_csv('RIR_out.csv')"
   ]
  },
  {
   "cell_type": "code",
   "execution_count": 45,
   "metadata": {},
   "outputs": [
    {
     "name": "stdout",
     "output_type": "stream",
     "text": [
      "Cash | Product Management | Inappropriate  and incorrect pricing for TB products\n",
      "Inappropriate pricing for TB products\n"
     ]
    }
   ],
   "source": [
    "print(matches_df.left_side[17])\n",
    "print(matches_df.right_side[17])"
   ]
  }
 ],
 "metadata": {
  "kernelspec": {
   "display_name": "Python 3",
   "language": "python",
   "name": "python3"
  },
  "language_info": {
   "codemirror_mode": {
    "name": "ipython",
    "version": 3
   },
   "file_extension": ".py",
   "mimetype": "text/x-python",
   "name": "python",
   "nbconvert_exporter": "python",
   "pygments_lexer": "ipython3",
   "version": "3.6.1"
  }
 },
 "nbformat": 4,
 "nbformat_minor": 2
}
